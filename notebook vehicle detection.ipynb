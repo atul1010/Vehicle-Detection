{
 "cells": [
  {
   "cell_type": "code",
   "execution_count": null,
   "metadata": {
    "_cell_guid": "b1076dfc-b9ad-4769-8c92-a6c4dae69d19",
    "_uuid": "8f2839f25d086af736a60e9eeb907d3b93b6e0e5",
    "execution": {
     "iopub.execute_input": "2023-08-26T19:29:26.844075Z",
     "iopub.status.busy": "2023-08-26T19:29:26.843619Z",
     "iopub.status.idle": "2023-08-26T19:29:26.851912Z",
     "shell.execute_reply": "2023-08-26T19:29:26.850944Z",
     "shell.execute_reply.started": "2023-08-26T19:29:26.84404Z"
    }
   },
   "outputs": [],
   "source": [
    "import numpy as np \n",
    "import pandas as pd \n",
    "\n",
    "import os\n",
    "import matplotlib.pyplot as plt\n",
    "import seaborn as sns\n",
    "from sklearn.model_selection import train_test_split\n",
    "from tensorflow.keras.preprocessing.image import ImageDataGenerator\n",
    "from tensorflow.keras.models import Sequential\n",
    "from tensorflow.keras.layers import Dense, Flatten, Conv2D, MaxPool2D, Dropout\n",
    "from sklearn.metrics import confusion_matrix, classification_report,ConfusionMatrixDisplay\n",
    "from glob import glob\n",
    "import re\n",
    "import cv2\n",
    "import tensorflow as tf\n",
    "from tensorflow.keras import layers\n",
    "from tensorflow.keras.applications.vgg16 import VGG16\n",
    "from tensorflow.keras.layers import Dense, GlobalAveragePooling2D\n",
    "from tensorflow.keras.models import Model"
   ]
  },
  {
   "cell_type": "markdown",
   "metadata": {},
   "source": [
    "# Read Data"
   ]
  },
  {
   "cell_type": "code",
   "execution_count": null,
   "metadata": {
    "execution": {
     "iopub.execute_input": "2023-08-26T16:21:22.644224Z",
     "iopub.status.busy": "2023-08-26T16:21:22.643325Z",
     "iopub.status.idle": "2023-08-26T16:21:22.64971Z",
     "shell.execute_reply": "2023-08-26T16:21:22.648459Z",
     "shell.execute_reply.started": "2023-08-26T16:21:22.644166Z"
    }
   },
   "outputs": [],
   "source": [
    "base_dir = \"/kaggle/input/vehicle-detection-image-set/data\""
   ]
  },
  {
   "cell_type": "code",
   "execution_count": null,
   "metadata": {
    "execution": {
     "iopub.execute_input": "2023-08-26T16:25:36.259009Z",
     "iopub.status.busy": "2023-08-26T16:25:36.258589Z",
     "iopub.status.idle": "2023-08-26T16:25:36.899632Z",
     "shell.execute_reply": "2023-08-26T16:25:36.898659Z",
     "shell.execute_reply.started": "2023-08-26T16:25:36.258963Z"
    }
   },
   "outputs": [],
   "source": [
    "label = []       #  Assign all label\n",
    "images_path = [] # Get all images path\n",
    "all_images = []  # Check all images name\n",
    "idx = 0          # index\n",
    "img_label = []   # Assign image label\n",
    "\n",
    "\n",
    "\n",
    "for directory in os.listdir(base_dir):\n",
    "    label.append(directory)\n",
    "    for img in os.listdir(os.path.join(base_dir,directory)):\n",
    "        if len(re.findall('.png',img.lower())) != 0 or len(re.findall('.jpg',img.lower())) != 0 or len(re.findall('.jpeg',img.lower())) != 0:\n",
    "            img_path = os.path.join(os.path.join(base_dir,directory),img)\n",
    "            all_images.append(img)\n",
    "            images_path.append(img_path)\n",
    "            img_label.append(directory)"
   ]
  },
  {
   "cell_type": "code",
   "execution_count": null,
   "metadata": {
    "execution": {
     "iopub.execute_input": "2023-08-26T16:31:03.164809Z",
     "iopub.status.busy": "2023-08-26T16:31:03.164344Z",
     "iopub.status.idle": "2023-08-26T16:31:03.206978Z",
     "shell.execute_reply": "2023-08-26T16:31:03.206016Z",
     "shell.execute_reply.started": "2023-08-26T16:31:03.164767Z"
    }
   },
   "outputs": [],
   "source": [
    "img_shape = cv2.imread(images_path[0])\n",
    "\n",
    "print(f\"Labels : { label}\")\n",
    "print(f\"Total Images : {len(all_images)}\")\n",
    "print(f\" Images shape : {img_shape.shape}\")"
   ]
  },
  {
   "cell_type": "code",
   "execution_count": null,
   "metadata": {
    "execution": {
     "iopub.execute_input": "2023-08-26T16:33:50.242347Z",
     "iopub.status.busy": "2023-08-26T16:33:50.241341Z",
     "iopub.status.idle": "2023-08-26T16:33:50.266536Z",
     "shell.execute_reply": "2023-08-26T16:33:50.26563Z",
     "shell.execute_reply.started": "2023-08-26T16:33:50.2423Z"
    }
   },
   "outputs": [],
   "source": [
    "data=pd.DataFrame({\"image\":images_path,\"Label\":img_label})\n",
    "data"
   ]
  },
  {
   "cell_type": "markdown",
   "metadata": {},
   "source": [
    "## show some data"
   ]
  },
  {
   "cell_type": "code",
   "execution_count": null,
   "metadata": {
    "execution": {
     "iopub.execute_input": "2023-08-26T16:43:07.636125Z",
     "iopub.status.busy": "2023-08-26T16:43:07.635765Z",
     "iopub.status.idle": "2023-08-26T16:43:08.576094Z",
     "shell.execute_reply": "2023-08-26T16:43:08.575145Z",
     "shell.execute_reply.started": "2023-08-26T16:43:07.636095Z"
    }
   },
   "outputs": [],
   "source": [
    "random_img = data.sample(10).reset_index()\n",
    "fig, axes = plt.subplots(nrows=5, ncols=2, figsize=(25, 25),\n",
    "                        subplot_kw={'xticks': [], 'yticks': []})\n",
    "\n",
    "for i, ax in enumerate(axes.flat):\n",
    "    ax.imshow(plt.imread(random_img.image[i]))\n",
    "    ax.set_title(random_img.Label[i], color='blue', fontsize=14)\n",
    "    ax.axis('off')\n",
    "plt.tight_layout(pad=3.0)\n",
    "plt.show()"
   ]
  },
  {
   "cell_type": "markdown",
   "metadata": {},
   "source": [
    "## check the balance "
   ]
  },
  {
   "cell_type": "code",
   "execution_count": null,
   "metadata": {
    "execution": {
     "iopub.execute_input": "2023-08-26T16:46:24.607538Z",
     "iopub.status.busy": "2023-08-26T16:46:24.607136Z",
     "iopub.status.idle": "2023-08-26T16:46:24.846991Z",
     "shell.execute_reply": "2023-08-26T16:46:24.846075Z",
     "shell.execute_reply.started": "2023-08-26T16:46:24.607507Z"
    }
   },
   "outputs": [],
   "source": [
    "data_label = data['Label'].value_counts()\n",
    "#print(data_label.index)\n",
    "plt.figure()\n",
    "sns.barplot(x = data_label.index, y = data_label)\n",
    "plt.xlabel(\"Type of Data\")\n",
    "plt.ylabel(\"Total Data\")\n",
    "plt.title(\"Bar Chart Of Dataset\")\n",
    "plt.show()\n",
    "print(f\"Total Images class [0]:{data_label[0]}\")\n",
    "print(f\"Total Images class [1]:{data_label[1]}\")"
   ]
  },
  {
   "cell_type": "markdown",
   "metadata": {},
   "source": [
    "## split data"
   ]
  },
  {
   "cell_type": "code",
   "execution_count": null,
   "metadata": {
    "execution": {
     "iopub.execute_input": "2023-08-26T17:00:00.021064Z",
     "iopub.status.busy": "2023-08-26T17:00:00.020707Z",
     "iopub.status.idle": "2023-08-26T17:00:00.0327Z",
     "shell.execute_reply": "2023-08-26T17:00:00.031696Z",
     "shell.execute_reply.started": "2023-08-26T17:00:00.021032Z"
    }
   },
   "outputs": [],
   "source": [
    "X_train, X_test = train_test_split(data,test_size=0.2,random_state=42)\n",
    "print(X_train.shape)\n",
    "print(X_test.shape)"
   ]
  },
  {
   "cell_type": "markdown",
   "metadata": {},
   "source": [
    "# Data Augmentation"
   ]
  },
  {
   "cell_type": "code",
   "execution_count": null,
   "metadata": {
    "execution": {
     "iopub.execute_input": "2023-08-26T17:04:58.898056Z",
     "iopub.status.busy": "2023-08-26T17:04:58.897148Z",
     "iopub.status.idle": "2023-08-26T17:04:58.903956Z",
     "shell.execute_reply": "2023-08-26T17:04:58.902747Z",
     "shell.execute_reply.started": "2023-08-26T17:04:58.898018Z"
    }
   },
   "outputs": [],
   "source": [
    "train_datagen = ImageDataGenerator(rescale = 1./255,\n",
    "                                    shear_range = 0.2,\n",
    "                                    zoom_range = 0.1,\n",
    "                                    rotation_range = 30,\n",
    "                                    width_shift_range = 0.1,\n",
    "                                    height_shift_range = 0.1,\n",
    "                                    horizontal_flip = True,\n",
    "                                    validation_split = 0.2)\n",
    "\n",
    "test_datagen = ImageDataGenerator(rescale = 1./255)"
   ]
  },
  {
   "cell_type": "code",
   "execution_count": null,
   "metadata": {
    "execution": {
     "iopub.execute_input": "2023-08-26T17:05:30.377964Z",
     "iopub.status.busy": "2023-08-26T17:05:30.377604Z",
     "iopub.status.idle": "2023-08-26T17:06:27.63898Z",
     "shell.execute_reply": "2023-08-26T17:06:27.638058Z",
     "shell.execute_reply.started": "2023-08-26T17:05:30.377934Z"
    }
   },
   "outputs": [],
   "source": [
    "training_set = train_datagen.flow_from_dataframe(\n",
    "    dataframe = X_train,\n",
    "    x_col = \"image\",\n",
    "    y_col = \"Label\",\n",
    "    target_size = (64, 64),\n",
    "    color_mode = \"rgb\",\n",
    "    class_mode = \"categorical\",\n",
    "    batch_size = 32,\n",
    "    shuffle = True,\n",
    "    seed = 2,\n",
    "    subset = \"training\")\n",
    "\n",
    "validation_set = train_datagen.flow_from_dataframe(\n",
    "    dataframe = X_train,\n",
    "    x_col = \"image\",\n",
    "    y_col = \"Label\",\n",
    "    target_size = (64, 64),\n",
    "    color_mode =\"rgb\",\n",
    "    class_mode = \"categorical\",\n",
    "    batch_size = 32,\n",
    "    shuffle = True,\n",
    "    seed = 2,\n",
    "    subset = \"validation\")\n",
    "\n",
    "test_set = test_datagen.flow_from_dataframe(\n",
    "    dataframe = X_test,\n",
    "    x_col = \"image\",\n",
    "    y_col = \"Label\",\n",
    "    target_size = (64, 64),\n",
    "    color_mode =\"rgb\",\n",
    "    class_mode = \"categorical\",\n",
    "    shuffle = False,\n",
    "    batch_size = 32)"
   ]
  },
  {
   "cell_type": "code",
   "execution_count": null,
   "metadata": {},
   "outputs": [],
   "source": [
    "x=img_to_array(img)\n",
    "x.shape"
   ]
  },
  {
   "cell_type": "code",
   "execution_count": null,
   "metadata": {
    "execution": {
     "iopub.execute_input": "2023-08-26T17:28:37.761877Z",
     "iopub.status.busy": "2023-08-26T17:28:37.761505Z",
     "iopub.status.idle": "2023-08-26T17:28:37.849571Z",
     "shell.execute_reply": "2023-08-26T17:28:37.84864Z",
     "shell.execute_reply.started": "2023-08-26T17:28:37.761845Z"
    }
   },
   "outputs": [],
   "source": [
    "model = tf.keras.Sequential()\n",
    "#first layer of model\n",
    "model.add(layers.Conv2D(32,(3,3),input_shape=img_shape.shape))\n",
    "model.add(layers.Activation(\"relu\"))\n",
    "model.add(layers.MaxPool2D(pool_size=(2,2)))\n",
    "model.add(layers.Dropout(0.25))\n",
    "#second layer of model\n",
    "model.add(layers.Conv2D(64,(3,3)))\n",
    "model.add(layers.Activation(\"relu\"))\n",
    "model.add(layers.MaxPool2D(pool_size=(2,2)))\n",
    "model.add(layers.Dropout(0.25))\n",
    "\n",
    "\n",
    "\n",
    "\n",
    "\n",
    "model.add(layers.Flatten())\n",
    "model.add(layers.Dense(1024))#input neurons\n",
    "model.add(layers.Activation(\"relu\"))\n",
    "model.add(layers.Dropout(0.5))\n",
    "model.add(layers.Dense(len(label)))#output layer\n",
    "model.add(layers.Activation(\"softmax\"))"
   ]
  },
  {
   "cell_type": "code",
   "execution_count": null,
   "metadata": {
    "execution": {
     "iopub.execute_input": "2023-08-26T17:28:40.151317Z",
     "iopub.status.busy": "2023-08-26T17:28:40.150915Z",
     "iopub.status.idle": "2023-08-26T17:28:40.188136Z",
     "shell.execute_reply": "2023-08-26T17:28:40.187421Z",
     "shell.execute_reply.started": "2023-08-26T17:28:40.151283Z"
    }
   },
   "outputs": [],
   "source": [
    "model.summary()"
   ]
  },
  {
   "cell_type": "code",
   "execution_count": null,
   "metadata": {
    "execution": {
     "iopub.execute_input": "2023-08-26T17:28:43.898968Z",
     "iopub.status.busy": "2023-08-26T17:28:43.898403Z",
     "iopub.status.idle": "2023-08-26T17:28:43.908372Z",
     "shell.execute_reply": "2023-08-26T17:28:43.906775Z",
     "shell.execute_reply.started": "2023-08-26T17:28:43.898925Z"
    }
   },
   "outputs": [],
   "source": [
    "optimizer=tf.keras.optimizers.RMSprop(\n",
    "    learning_rate=0.001,\n",
    "    rho=0.9,\n",
    "    epsilon=1e-07,\n",
    "    name=\"RMSprop\"\n",
    ")"
   ]
  },
  {
   "cell_type": "code",
   "execution_count": null,
   "metadata": {
    "execution": {
     "iopub.execute_input": "2023-08-26T17:28:46.895448Z",
     "iopub.status.busy": "2023-08-26T17:28:46.895036Z",
     "iopub.status.idle": "2023-08-26T17:28:46.907743Z",
     "shell.execute_reply": "2023-08-26T17:28:46.906807Z",
     "shell.execute_reply.started": "2023-08-26T17:28:46.895416Z"
    }
   },
   "outputs": [],
   "source": [
    "#Compile Model\n",
    "model.compile(optimizer = optimizer, loss='categorical_crossentropy', \n",
    "             metrics=[\"accuracy\"])"
   ]
  },
  {
   "cell_type": "code",
   "execution_count": null,
   "metadata": {
    "execution": {
     "iopub.execute_input": "2023-08-26T17:28:49.076659Z",
     "iopub.status.busy": "2023-08-26T17:28:49.076294Z",
     "iopub.status.idle": "2023-08-26T17:28:49.084412Z",
     "shell.execute_reply": "2023-08-26T17:28:49.083421Z",
     "shell.execute_reply.started": "2023-08-26T17:28:49.076629Z"
    }
   },
   "outputs": [],
   "source": [
    "from tensorflow.keras.callbacks import EarlyStopping\n",
    "early_stopping = EarlyStopping(monitor='val_loss', patience=5, verbose=1)"
   ]
  },
  {
   "cell_type": "code",
   "execution_count": null,
   "metadata": {
    "execution": {
     "iopub.execute_input": "2023-08-26T17:28:54.100643Z",
     "iopub.status.busy": "2023-08-26T17:28:54.100265Z",
     "iopub.status.idle": "2023-08-26T17:35:06.076073Z",
     "shell.execute_reply": "2023-08-26T17:35:06.074941Z",
     "shell.execute_reply.started": "2023-08-26T17:28:54.100612Z"
    }
   },
   "outputs": [],
   "source": [
    "history = model.fit(training_set, epochs=10,validation_data = validation_set, callbacks=[early_stopping],batch_size=32)"
   ]
  },
  {
   "cell_type": "code",
   "execution_count": null,
   "metadata": {
    "execution": {
     "iopub.execute_input": "2023-08-26T17:36:25.512417Z",
     "iopub.status.busy": "2023-08-26T17:36:25.512019Z",
     "iopub.status.idle": "2023-08-26T17:36:26.054222Z",
     "shell.execute_reply": "2023-08-26T17:36:26.053139Z",
     "shell.execute_reply.started": "2023-08-26T17:36:25.512379Z"
    }
   },
   "outputs": [],
   "source": [
    "acc = history.history['accuracy']\n",
    "val_acc = history.history['val_accuracy']\n",
    "\n",
    "loss = history.history['loss']\n",
    "val_loss = history.history['val_loss']\n",
    "\n",
    "plt.figure(figsize=(8, 8))\n",
    "plt.subplot(2, 1, 1)\n",
    "plt.plot(acc, label='Training Accuracy')\n",
    "plt.plot(val_acc, label='Validation Accuracy')\n",
    "plt.legend(loc='lower right')\n",
    "plt.ylabel('Accuracy')\n",
    "#plt.ylim([min(plt.ylim()),1])\n",
    "plt.title('Training and Validation Accuracy')\n",
    "\n",
    "plt.subplot(2, 1, 2)\n",
    "plt.plot(loss, label='Training Loss')\n",
    "plt.plot(val_loss, label='Validation Loss')\n",
    "plt.legend(loc='upper right')\n",
    "#plt.ylabel('Cross Entropy')\n",
    "#plt.ylim([0,1.0])\n",
    "plt.title('Training and Validation Loss')\n",
    "plt.xlabel('epoch')\n",
    "plt.show()"
   ]
  },
  {
   "cell_type": "code",
   "execution_count": null,
   "metadata": {
    "execution": {
     "iopub.execute_input": "2023-08-26T19:20:59.314405Z",
     "iopub.status.busy": "2023-08-26T19:20:59.313984Z",
     "iopub.status.idle": "2023-08-26T19:21:04.503484Z",
     "shell.execute_reply": "2023-08-26T19:21:04.502434Z",
     "shell.execute_reply.started": "2023-08-26T19:20:59.31437Z"
    }
   },
   "outputs": [],
   "source": [
    "#evaluate model\n",
    "test_score = model.evaluate(test_set)"
   ]
  },
  {
   "cell_type": "code",
   "execution_count": null,
   "metadata": {
    "execution": {
     "iopub.execute_input": "2023-08-26T19:22:04.08392Z",
     "iopub.status.busy": "2023-08-26T19:22:04.083533Z",
     "iopub.status.idle": "2023-08-26T19:22:08.309539Z",
     "shell.execute_reply": "2023-08-26T19:22:08.308483Z",
     "shell.execute_reply.started": "2023-08-26T19:22:04.083886Z"
    }
   },
   "outputs": [],
   "source": [
    "predicted_label = model.predict(test_set)\n",
    "predicted_label = np.argmax(predicted_label,axis=1)"
   ]
  },
  {
   "cell_type": "code",
   "execution_count": null,
   "metadata": {
    "execution": {
     "iopub.execute_input": "2023-08-26T19:22:50.206773Z",
     "iopub.status.busy": "2023-08-26T19:22:50.206374Z",
     "iopub.status.idle": "2023-08-26T19:22:51.998164Z",
     "shell.execute_reply": "2023-08-26T19:22:51.997262Z",
     "shell.execute_reply.started": "2023-08-26T19:22:50.206741Z"
    }
   },
   "outputs": [],
   "source": [
    "test_datas = test_set.filenames\n",
    "labels_data = test_set.labels\n",
    "\n",
    "fig = plt.figure(figsize=(15,15))\n",
    "\n",
    "for i in range(8):\n",
    "    if labels_data[i] == 0:\n",
    "        test_label = \"Non Vehicle\"\n",
    "    else:\n",
    "        test_label = \"Vehicle\"\n",
    "    if predicted_label[i] == 0:\n",
    "        predict_lab = \"Non Vehicle\"\n",
    "    else :\n",
    "        predict_lab = \"Vehicle\"\n",
    "    label = \"Label : \"+ test_label +\" Pred: \"+predict_lab\n",
    "    \n",
    "    fig.add_subplot(4,2,i+1).set_title(label)\n",
    "    img = cv2.imread(test_datas[i])\n",
    "    plt.imshow(img)"
   ]
  },
  {
   "cell_type": "markdown",
   "metadata": {},
   "source": [
    "# VGG-16"
   ]
  },
  {
   "cell_type": "code",
   "execution_count": null,
   "metadata": {
    "execution": {
     "iopub.execute_input": "2023-08-26T17:37:41.420201Z",
     "iopub.status.busy": "2023-08-26T17:37:41.41982Z",
     "iopub.status.idle": "2023-08-26T17:37:46.982532Z",
     "shell.execute_reply": "2023-08-26T17:37:46.98153Z",
     "shell.execute_reply.started": "2023-08-26T17:37:41.420171Z"
    }
   },
   "outputs": [],
   "source": [
    "vgg= VGG16()"
   ]
  },
  {
   "cell_type": "code",
   "execution_count": null,
   "metadata": {
    "execution": {
     "iopub.execute_input": "2023-08-26T17:38:38.037145Z",
     "iopub.status.busy": "2023-08-26T17:38:38.036751Z",
     "iopub.status.idle": "2023-08-26T17:38:38.043507Z",
     "shell.execute_reply": "2023-08-26T17:38:38.041898Z",
     "shell.execute_reply.started": "2023-08-26T17:38:38.037112Z"
    }
   },
   "outputs": [],
   "source": [
    "print(len(vgg.layers))"
   ]
  },
  {
   "cell_type": "code",
   "execution_count": null,
   "metadata": {
    "execution": {
     "iopub.execute_input": "2023-08-26T17:38:54.692639Z",
     "iopub.status.busy": "2023-08-26T17:38:54.692264Z",
     "iopub.status.idle": "2023-08-26T17:38:54.698372Z",
     "shell.execute_reply": "2023-08-26T17:38:54.69725Z",
     "shell.execute_reply.started": "2023-08-26T17:38:54.692608Z"
    }
   },
   "outputs": [],
   "source": [
    "vgg.trainable = False"
   ]
  },
  {
   "cell_type": "code",
   "execution_count": null,
   "metadata": {
    "execution": {
     "iopub.execute_input": "2023-08-26T17:39:13.162838Z",
     "iopub.status.busy": "2023-08-26T17:39:13.162469Z",
     "iopub.status.idle": "2023-08-26T17:39:13.207741Z",
     "shell.execute_reply": "2023-08-26T17:39:13.206993Z",
     "shell.execute_reply.started": "2023-08-26T17:39:13.162808Z"
    }
   },
   "outputs": [],
   "source": [
    "vgg.summary() "
   ]
  },
  {
   "cell_type": "code",
   "execution_count": null,
   "metadata": {
    "execution": {
     "iopub.execute_input": "2023-08-26T17:39:51.998845Z",
     "iopub.status.busy": "2023-08-26T17:39:51.998464Z",
     "iopub.status.idle": "2023-08-26T17:39:52.159118Z",
     "shell.execute_reply": "2023-08-26T17:39:52.158369Z",
     "shell.execute_reply.started": "2023-08-26T17:39:51.998812Z"
    }
   },
   "outputs": [],
   "source": [
    "#remove the prediction layer in vgg-model\n",
    "model_vgg = tf.keras.Sequential()\n",
    "for i in range(len(vgg.layers)-1):\n",
    "    model_vgg.add(vgg.layers[i])\n",
    "print(model_vgg.summary())"
   ]
  },
  {
   "cell_type": "code",
   "execution_count": null,
   "metadata": {
    "execution": {
     "iopub.execute_input": "2023-08-26T17:41:39.642249Z",
     "iopub.status.busy": "2023-08-26T17:41:39.641857Z",
     "iopub.status.idle": "2023-08-26T17:41:39.667107Z",
     "shell.execute_reply": "2023-08-26T17:41:39.666172Z",
     "shell.execute_reply.started": "2023-08-26T17:41:39.642193Z"
    }
   },
   "outputs": [],
   "source": [
    "#add our prediction layer \n",
    "from tensorflow.keras import layers\n",
    "model_vgg.add(layers.Dense(len(label),activation=\"softmax\"))"
   ]
  },
  {
   "cell_type": "code",
   "execution_count": null,
   "metadata": {
    "execution": {
     "iopub.execute_input": "2023-08-26T17:42:57.675762Z",
     "iopub.status.busy": "2023-08-26T17:42:57.675369Z",
     "iopub.status.idle": "2023-08-26T17:42:57.717144Z",
     "shell.execute_reply": "2023-08-26T17:42:57.71643Z",
     "shell.execute_reply.started": "2023-08-26T17:42:57.675733Z"
    }
   },
   "outputs": [],
   "source": [
    "model_vgg.summary()"
   ]
  },
  {
   "cell_type": "markdown",
   "metadata": {},
   "source": [
    "### handel the data to suitble with vgg-model"
   ]
  },
  {
   "cell_type": "code",
   "execution_count": null,
   "metadata": {
    "execution": {
     "iopub.execute_input": "2023-08-26T18:36:49.611139Z",
     "iopub.status.busy": "2023-08-26T18:36:49.610108Z",
     "iopub.status.idle": "2023-08-26T18:37:15.289368Z",
     "shell.execute_reply": "2023-08-26T18:37:15.288368Z",
     "shell.execute_reply.started": "2023-08-26T18:36:49.611099Z"
    }
   },
   "outputs": [],
   "source": [
    "training_set_vgg = train_datagen.flow_from_dataframe(\n",
    "    dataframe = X_train,\n",
    "    x_col = \"image\",\n",
    "    y_col = \"Label\",\n",
    "    target_size = (244, 244),\n",
    "    color_mode = \"rgb\",\n",
    "    class_mode = \"categorical\",\n",
    "    batch_size = 32,\n",
    "    shuffle = True,\n",
    "    seed = 2,\n",
    "    subset = \"training\")\n",
    "\n",
    "validation_set_vgg = train_datagen.flow_from_dataframe(\n",
    "    dataframe = X_train,\n",
    "    x_col = \"image\",\n",
    "    y_col = \"Label\",\n",
    "    target_size = (224, 224),\n",
    "    color_mode =\"rgb\",\n",
    "    class_mode = \"categorical\",\n",
    "    batch_size = 32,\n",
    "    shuffle = True,\n",
    "    seed = 2,\n",
    "    subset = \"validation\")\n",
    "\n",
    "test_set_vgg = test_datagen.flow_from_dataframe(\n",
    "    dataframe = X_test,\n",
    "    x_col = \"image\",\n",
    "    y_col = \"Label\",\n",
    "    target_size = (224, 224),\n",
    "    color_mode =\"rgb\",\n",
    "    class_mode = \"categorical\",\n",
    "    shuffle = False,\n",
    "    batch_size = 32)\n"
   ]
  },
  {
   "cell_type": "code",
   "execution_count": null,
   "metadata": {
    "execution": {
     "iopub.execute_input": "2023-08-26T18:37:15.291687Z",
     "iopub.status.busy": "2023-08-26T18:37:15.291259Z",
     "iopub.status.idle": "2023-08-26T18:37:15.305161Z",
     "shell.execute_reply": "2023-08-26T18:37:15.304227Z",
     "shell.execute_reply.started": "2023-08-26T18:37:15.291651Z"
    }
   },
   "outputs": [],
   "source": [
    "model_vgg.compile(loss=\"categorical_crossentropy\",\n",
    "             optimizer=\"rmsprop\",\n",
    "             metrics=[\"accuracy\"])"
   ]
  },
  {
   "cell_type": "code",
   "execution_count": null,
   "metadata": {
    "execution": {
     "iopub.execute_input": "2023-08-26T18:37:15.307657Z",
     "iopub.status.busy": "2023-08-26T18:37:15.306694Z",
     "iopub.status.idle": "2023-08-26T19:15:49.237387Z",
     "shell.execute_reply": "2023-08-26T19:15:49.236343Z",
     "shell.execute_reply.started": "2023-08-26T18:37:15.30762Z"
    }
   },
   "outputs": [],
   "source": [
    "history = model_vgg.fit(training_set_vgg, epochs=10,validation_data = validation_set_vgg,batch_size=32)"
   ]
  },
  {
   "cell_type": "code",
   "execution_count": null,
   "metadata": {
    "execution": {
     "iopub.execute_input": "2023-08-26T19:18:17.529252Z",
     "iopub.status.busy": "2023-08-26T19:18:17.528852Z",
     "iopub.status.idle": "2023-08-26T19:18:18.125765Z",
     "shell.execute_reply": "2023-08-26T19:18:18.124778Z",
     "shell.execute_reply.started": "2023-08-26T19:18:17.529194Z"
    }
   },
   "outputs": [],
   "source": [
    "acc = history.history['accuracy']\n",
    "val_acc = history.history['val_accuracy']\n",
    "\n",
    "loss = history.history['loss']\n",
    "val_loss = history.history['val_loss']\n",
    "\n",
    "plt.figure(figsize=(8, 8))\n",
    "plt.subplot(2, 1, 1)\n",
    "plt.plot(acc, label='Training Accuracy')\n",
    "plt.plot(val_acc, label='Validation Accuracy')\n",
    "plt.legend(loc='lower right')\n",
    "plt.ylabel('Accuracy')\n",
    "#plt.ylim([min(plt.ylim()),1])\n",
    "plt.title('Training and Validation Accuracy')\n",
    "\n",
    "plt.subplot(2, 1, 2)\n",
    "plt.plot(loss, label='Training Loss')\n",
    "plt.plot(val_loss, label='Validation Loss')\n",
    "plt.legend(loc='upper right')\n",
    "plt.title('Training and Validation Loss')\n",
    "plt.xlabel('epoch')\n",
    "plt.show()"
   ]
  },
  {
   "cell_type": "code",
   "execution_count": null,
   "metadata": {
    "execution": {
     "iopub.execute_input": "2023-08-26T19:18:51.261155Z",
     "iopub.status.busy": "2023-08-26T19:18:51.260125Z",
     "iopub.status.idle": "2023-08-26T19:19:22.876955Z",
     "shell.execute_reply": "2023-08-26T19:19:22.875961Z",
     "shell.execute_reply.started": "2023-08-26T19:18:51.261119Z"
    }
   },
   "outputs": [],
   "source": [
    "test_score = model_vgg.evaluate(test_set_vgg)"
   ]
  },
  {
   "cell_type": "markdown",
   "metadata": {},
   "source": [
    "# ResNet"
   ]
  },
  {
   "cell_type": "code",
   "execution_count": null,
   "metadata": {
    "execution": {
     "iopub.execute_input": "2023-08-26T19:23:12.999383Z",
     "iopub.status.busy": "2023-08-26T19:23:12.998984Z",
     "iopub.status.idle": "2023-08-26T19:23:13.004413Z",
     "shell.execute_reply": "2023-08-26T19:23:13.003224Z",
     "shell.execute_reply.started": "2023-08-26T19:23:12.999351Z"
    }
   },
   "outputs": [],
   "source": [
    "generator = tf.keras.preprocessing.image.ImageDataGenerator(\n",
    "    preprocessing_function=tf.keras.applications.resnet50.preprocess_input\n",
    "    )"
   ]
  },
  {
   "cell_type": "code",
   "execution_count": null,
   "metadata": {
    "execution": {
     "iopub.execute_input": "2023-08-26T19:25:33.030548Z",
     "iopub.status.busy": "2023-08-26T19:25:33.03009Z",
     "iopub.status.idle": "2023-08-26T19:25:35.53939Z",
     "shell.execute_reply": "2023-08-26T19:25:35.53839Z",
     "shell.execute_reply.started": "2023-08-26T19:25:33.03051Z"
    }
   },
   "outputs": [],
   "source": [
    "resnet_model = tf.keras.applications.resnet50.ResNet50(input_shape=img_shape.shape,\n",
    "                                               include_top=False,\n",
    "                                               weights='imagenet')"
   ]
  },
  {
   "cell_type": "code",
   "execution_count": null,
   "metadata": {
    "execution": {
     "iopub.execute_input": "2023-08-26T19:26:01.955107Z",
     "iopub.status.busy": "2023-08-26T19:26:01.954174Z",
     "iopub.status.idle": "2023-08-26T19:26:01.966962Z",
     "shell.execute_reply": "2023-08-26T19:26:01.965937Z",
     "shell.execute_reply.started": "2023-08-26T19:26:01.955071Z"
    }
   },
   "outputs": [],
   "source": [
    "resnet_model.trainable = False"
   ]
  },
  {
   "cell_type": "code",
   "execution_count": null,
   "metadata": {
    "execution": {
     "iopub.execute_input": "2023-08-26T19:26:15.727026Z",
     "iopub.status.busy": "2023-08-26T19:26:15.726417Z",
     "iopub.status.idle": "2023-08-26T19:26:16.121396Z",
     "shell.execute_reply": "2023-08-26T19:26:16.120556Z",
     "shell.execute_reply.started": "2023-08-26T19:26:15.726981Z"
    }
   },
   "outputs": [],
   "source": [
    "resnet_model.summary()"
   ]
  },
  {
   "cell_type": "code",
   "execution_count": null,
   "metadata": {
    "execution": {
     "iopub.execute_input": "2023-08-26T19:29:34.920851Z",
     "iopub.status.busy": "2023-08-26T19:29:34.920138Z",
     "iopub.status.idle": "2023-08-26T19:29:34.955453Z",
     "shell.execute_reply": "2023-08-26T19:29:34.954493Z",
     "shell.execute_reply.started": "2023-08-26T19:29:34.920814Z"
    }
   },
   "outputs": [],
   "source": [
    "x = resnet_model.output\n",
    "\n",
    "# Add a global average pooling layer\n",
    "x = GlobalAveragePooling2D()(x)\n",
    "\n",
    "# Add your custom dense layer\n",
    "predictions = Dense(2, activation='softmax')(x)  \n",
    "\n",
    "# Create the final model\n",
    "model_res = Model(inputs=resnet_model.input, outputs=predictions)"
   ]
  },
  {
   "cell_type": "code",
   "execution_count": null,
   "metadata": {
    "execution": {
     "iopub.execute_input": "2023-08-26T19:30:47.849728Z",
     "iopub.status.busy": "2023-08-26T19:30:47.849361Z",
     "iopub.status.idle": "2023-08-26T19:30:48.248494Z",
     "shell.execute_reply": "2023-08-26T19:30:48.247677Z",
     "shell.execute_reply.started": "2023-08-26T19:30:47.849697Z"
    }
   },
   "outputs": [],
   "source": [
    "model_res.summary()"
   ]
  },
  {
   "cell_type": "code",
   "execution_count": null,
   "metadata": {
    "execution": {
     "iopub.execute_input": "2023-08-26T19:33:33.780964Z",
     "iopub.status.busy": "2023-08-26T19:33:33.780112Z",
     "iopub.status.idle": "2023-08-26T19:33:33.801086Z",
     "shell.execute_reply": "2023-08-26T19:33:33.800168Z",
     "shell.execute_reply.started": "2023-08-26T19:33:33.780924Z"
    }
   },
   "outputs": [],
   "source": [
    "model_res.compile(loss=\"categorical_crossentropy\",\n",
    "             optimizer=\"Adam\",\n",
    "             metrics=[\"accuracy\"])"
   ]
  },
  {
   "cell_type": "code",
   "execution_count": null,
   "metadata": {
    "execution": {
     "iopub.execute_input": "2023-08-26T19:33:41.18337Z",
     "iopub.status.busy": "2023-08-26T19:33:41.182969Z",
     "iopub.status.idle": "2023-08-26T19:40:55.729789Z",
     "shell.execute_reply": "2023-08-26T19:40:55.728804Z",
     "shell.execute_reply.started": "2023-08-26T19:33:41.183338Z"
    }
   },
   "outputs": [],
   "source": [
    "history = model_res.fit(training_set, epochs=10,validation_data = validation_set, callbacks=[early_stopping],batch_size=32)"
   ]
  },
  {
   "cell_type": "code",
   "execution_count": null,
   "metadata": {
    "execution": {
     "iopub.execute_input": "2023-08-26T19:50:33.769418Z",
     "iopub.status.busy": "2023-08-26T19:50:33.768842Z",
     "iopub.status.idle": "2023-08-26T19:50:40.700646Z",
     "shell.execute_reply": "2023-08-26T19:50:40.699498Z",
     "shell.execute_reply.started": "2023-08-26T19:50:33.769376Z"
    }
   },
   "outputs": [],
   "source": [
    "test_score = model_res.evaluate(test_set)"
   ]
  },
  {
   "cell_type": "code",
   "execution_count": null,
   "metadata": {
    "execution": {
     "iopub.execute_input": "2023-08-26T19:51:08.742833Z",
     "iopub.status.busy": "2023-08-26T19:51:08.74245Z",
     "iopub.status.idle": "2023-08-26T19:51:09.284071Z",
     "shell.execute_reply": "2023-08-26T19:51:09.283141Z",
     "shell.execute_reply.started": "2023-08-26T19:51:08.742783Z"
    }
   },
   "outputs": [],
   "source": [
    "acc = history.history['accuracy']\n",
    "val_acc = history.history['val_accuracy']\n",
    "\n",
    "loss = history.history['loss']\n",
    "val_loss = history.history['val_loss']\n",
    "\n",
    "plt.figure(figsize=(8, 8))\n",
    "plt.subplot(2, 1, 1)\n",
    "plt.plot(acc, label='Training Accuracy')\n",
    "plt.plot(val_acc, label='Validation Accuracy')\n",
    "plt.legend(loc='lower right')\n",
    "plt.ylabel('Accuracy')\n",
    "#plt.ylim([min(plt.ylim()),1])\n",
    "plt.title('Training and Validation Accuracy')\n",
    "\n",
    "plt.subplot(2, 1, 2)\n",
    "plt.plot(loss, label='Training Loss')\n",
    "plt.plot(val_loss, label='Validation Loss')\n",
    "plt.legend(loc='upper right')\n",
    "plt.title('Training and Validation Loss')\n",
    "plt.xlabel('epoch')\n",
    "plt.show()"
   ]
  }
 ],
 "metadata": {
  "kernelspec": {
   "display_name": "Python 3 (ipykernel)",
   "language": "python",
   "name": "python3"
  },
  "language_info": {
   "codemirror_mode": {
    "name": "ipython",
    "version": 3
   },
   "file_extension": ".py",
   "mimetype": "text/x-python",
   "name": "python",
   "nbconvert_exporter": "python",
   "pygments_lexer": "ipython3",
   "version": "3.11.4"
  }
 },
 "nbformat": 4,
 "nbformat_minor": 4
}
